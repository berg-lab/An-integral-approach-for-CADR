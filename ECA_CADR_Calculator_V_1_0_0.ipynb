{
 "cells": [
  {
   "cell_type": "markdown",
   "metadata": {
    "id": "z-uVEmU2rm2e"
   },
   "source": [
    "\n",
    "\n",
    "\n",
    "\n",
    "\n",
    "# **Equivalent Clean Airflow (ECA) Rate (i.e., Clean Air Delivery Rate (CADR)) calculator: Integral and log-linear regression methods**\n",
    "```\n",
    "# Version: 1.0.0\n",
    "# Developed by: Saman Haratian et al.\n",
    "# Contact: sharatian@iit.edu\n",
    "# Copyright © 2025 Built Environment Research Groap (BERG) at Illinois Institute of Technology.\n",
    "# This code is licensed for personal or academic use only.\n",
    "# Redistribution, modification, or commercial use requires prior written permission.\n",
    "```\n",
    "\n",
    "\n"
   ]
  },
  {
   "cell_type": "markdown",
   "metadata": {
    "id": "KUscXbI7mA9r"
   },
   "source": [
    "This code is designed to evaluate the Equivalent Clean Airflow (ECA) rate, also known as the Clean Air Delivery Rate (CADR), from time-resolved pollutant concentration data resulting from pulse injection and decay tests (i.e., pull down tests) using two different approaches: an integral method and a conventional log-linear regression method.\n",
    "\n",
    "\n",
    "***Log-linear regression method***\n",
    "\n",
    "This method involves comparing first-order loss rate constants between test and control conditions and multiplying the difference by the volume of the room. Advancements herein include incorporating both model and measurement error via Monte Carlo analysis.\n",
    "\n",
    "***Integral method***\n",
    "\n",
    "This method quantifies loss rates and ECA/CADR from time-resolved contaminant concentration data resulting from pulse injection and decay tests of air cleaning devices and does not rely on conventional first-order assumptions."
   ]
  },
  {
   "cell_type": "markdown",
   "metadata": {
    "id": "fH_YDLgrnf40"
   },
   "source": [
    "As a first step, the following Python libraries are imported to perform the necessary calculations:"
   ]
  },
  {
   "cell_type": "code",
   "execution_count": 2,
   "metadata": {
    "id": "_mIlIsA3gB2l"
   },
   "outputs": [],
   "source": [
    "import numpy as np\n",
    "from scipy import optimize\n",
    "import matplotlib.pyplot as plt\n",
    "from scipy import stats\n",
    "import pandas as pd"
   ]
  },
  {
   "cell_type": "markdown",
   "metadata": {
    "id": "NjuD9JaKsMBw"
   },
   "source": [
    "Next, we import time-series concentrations from individual test cases along with any corresponding measurement errors, either manually or through importing an external file. For each example herein, time-series concentration data are manually input as an array.\n",
    "\n",
    "Eight (8) case study examples are explored here:\n",
    "\n",
    "*   Case #1: Ideal first order\n",
    "\n",
    "*   Case #2: Real non-biological particles: Smoke [link](https://built-envi.com/wp-content/uploads/IIT-CADR-Testing-WINIX-5500-2-October-2021.pdf).\n",
    "*   Case #3: High res. VOC (formaldehyde) by Schumacher [link](https://doi.org/10.3390/atmos15010109)\n",
    "\n",
    "*   Case #4: Low res. VOC (formaldehyde) by Law et al. [link](https://doi.org/10.1016/j.buildenv.2024.111823)\n",
    "\n",
    "*   Case #5-7: Bacteriophage MS2 by Ratliff et al. [link](https://doi.org/10.1016/j.buildenv.2022.109804)\n",
    "\n",
    "*   Case #8: Φ6 bacteriophage by Lin et al. [link](https://doi.org/10.1080/02786826.2017.1280128)\n",
    "\n",
    "\n",
    "For each test case data set, variable names and conventions are as follows:\n",
    "\n",
    "\n",
    "1. Define time-point arrays for control and test experiments under `t_control` and `t_test`. The default unit is in minutes. If your time-points are not in minutes, please convert to minutes.\n",
    "\n",
    "2. Define concentration arrays for control and test experiments under `c_control` and `c_test`.\n",
    "\n",
    "3. Define background concentration arrays for control and test experiment under `c_bg_control` and `c_bg_test`. Ensure units are the same as `c_control` and `c_test`.\n",
    "\n",
    "4. Define uncertainty arrays for control and test experiments under `sigma_control` and `sigma_test` which simply represents the uncertainty associated with each measurement. Ensure units are the same as `c_control` and `c_test`.\n",
    "\n",
    "Note that:\n",
    "\n",
    "1.   The units for all concentrations can be arbitrary, as the log-linear regression method is based on loss rates, which are independent of concentration units. In the integral method, the concentration units cancel out, resulting in a value with the same units as the loss rate. Just be consistent.\n",
    "2.   The unit of CADR/ECA is either ft³/min (CFM) or m³/min, depending on the unit of volume used in the calculations. Pay careful attention to units. The terms CADR and ECA are used interchangeably.\n",
    "\n",
    "\n"
   ]
  },
  {
   "cell_type": "markdown",
   "metadata": {},
   "source": [
    "# **Running the code**\n",
    "Step 1: Define your case and enter concentrations, time stamps, and chamber volume details. Either choose one of the 8 example case studies provided or create a new instance. Run only one case study definition cell at a time, then proceed to Step 2.\n",
    "\n",
    "Step 2: Scroll down to Calculation section and execute CADR/ECA calculations."
   ]
  },
  {
   "cell_type": "markdown",
   "metadata": {},
   "source": [
    "# **Case study definition (select one cell)**"
   ]
  },
  {
   "cell_type": "markdown",
   "metadata": {
    "id": "mRqKv2hACSG7"
   },
   "source": [
    "# *Case #1: Ideal  first order*"
   ]
  },
  {
   "cell_type": "code",
   "execution_count": 216,
   "metadata": {
    "id": "k8yLKTofgVxj"
   },
   "outputs": [],
   "source": [
    "t_control = np.array([0, 15, 30, 60, 90, 120])                                  # Time points (min)\n",
    "t_test = np.array([0, 15, 30, 60, 90, 120])                                     # Time points (min)\n",
    "\n",
    "c_test = np.array([ 8.00E+10, 2.29E+10, 6.57E+09,\n",
    "                   5.39E+08, 4.42E+07, 3.63E+06])                               # Test concentrations (PFU/m3)\n",
    "c_control = np.array([8.00E+10, 4.28E+10, 2.29E+10,\n",
    "                      6.57E+09, 1.88E+09, 5.39E+08])                            # Control concentrations (PFU/m3)\n",
    "\n",
    "c_bg_test=0                                                                     # Test background concentration (PFU/m3)\n",
    "c_bg_control=0                                                                  # Control background concentration (PFU/m3)\n",
    "\n",
    "sigma_test = np.array([0,0,0,0,0,0])                                            # Test standard deviations (Ideal hypothetical first order)(PFU/m3)\n",
    "sigma_control = np.array([0,0,0,0,0,0])                                         # Control standard deviations (Ideal hypothetical first order)(PFU/m3)\n",
    "\n",
    "V = 3000                                                                        # Chamber volume (ft3)"
   ]
  },
  {
   "cell_type": "markdown",
   "metadata": {
    "id": "PYLi9DGBFRK8"
   },
   "source": [
    "\n",
    "\n",
    "\n",
    "# *Case #2: Real non-biological particles: Smoke (truncated dataset)*"
   ]
  },
  {
   "cell_type": "code",
   "execution_count": 93,
   "metadata": {
    "id": "DZBbKyHAFZGn"
   },
   "outputs": [],
   "source": [
    "t_test = np.array([0, 1, 2, 3, 4, 5, 6, 7, 8, 9, 10,\n",
    "                11, 12, 13, 14, 15, 16, 17, 18, 19, 20, 21])                    # Time points (min)\n",
    "\n",
    "t_control = np.array([0, 1,\t2, 3,\t4, 5,\t6, 7, 8, 9, 10,\n",
    "                11,\t12,\t13,\t14,\t15, 16,\t17,\t18,\t19,\t20,\t21])                    # Time points (min)\n",
    "\n",
    "\n",
    "c_test = np.array([20733.1887, 17199.744, 15496.7706, 13660.3969, 11310.3118,\n",
    "                     10883.8787, 9122.8056, 8170.2825, 6648.0319, 6299.9989,\n",
    "                     4945.4016, 4635.3165, 3815.3086,3194.0609, 2984.6603,\n",
    "                     2455.5343, 2276.8268, 1918.0086, 1619.6262, 1389.2609,\n",
    "                     1244.1919, 1231.9916])                                     # Control concentrations (#/cm3)\n",
    "\n",
    "c_control = np.array([46629.5822,\t45262.5924,\t38944.8016,\t41968.5662,\t39470.0741,\n",
    "                   35389.2249,\t37112.7987,\t34422.0024,\t33845.9813,\t31813.524,\n",
    "                   30782.9434,\t29226.4405,\t27259.9242,\t27281.7278,\t26790.9496,\n",
    "                   25085.1379,\t22133.3491,\t22427.7312,\t21338.2308,\t18838.1459,\n",
    "                   19229.6865,\t19123.3036])                                    # Test concentrations (#/cm3)\n",
    "\n",
    "sigma_test = np.array([0., 0., 0., 0., 0., 0., 0., 0., 0., 0.,\n",
    "                       0., 0., 0., 0., 0., 0., 0., 0., 0., 0., 0., 0.])         # Test standard deviations (#/cm3)\n",
    "\n",
    "sigma_control = np.array([0., 0., 0., 0., 0., 0., 0., 0., 0.,\n",
    "                          0., 0., 0., 0., 0., 0., 0., 0.,0., 0., 0., 0., 0.])   # Control standard deviations (#/cm3)\n",
    "\n",
    "\n",
    "c_bg_test=113.7572667                                                           # Test background concentration (#/cm3)\n",
    "c_bg_control=607.22006143                                                       # Control background concentration (#/cm3)\n",
    "\n",
    "V = 1296                                                                        # Chamber volume (ft3)"
   ]
  },
  {
   "cell_type": "markdown",
   "metadata": {
    "id": "ZD_YRD945-oh"
   },
   "source": [
    "# *Case #2: Real non-biological particles: Smoke (full dataset)*"
   ]
  },
  {
   "cell_type": "code",
   "execution_count": 219,
   "metadata": {
    "id": "7yq-FURr5r84"
   },
   "outputs": [],
   "source": [
    "t_control = np.array([0, 1,\t2,\t3,\t4,\t5,\t6,\t7,\t8,\t9,\t10,\t11,\t12,\t13,\t14,\t15,\n",
    "                16,\t17,\t18,\t19,\t20,\t21,\t22,\t23,\t24,\t25,\t26,\t27,\t28,\t29,\t30,\t31,\n",
    "                32,\t33,\t34,\t35,\t36,\t37,\t38,\t39,\t40,\t41,\t42,\t43,\t44,\t45,\t46,\t47,\n",
    "                48,\t49,\t50,\t51,\t52,\t53,\t54,\t55,\t56,\t57,\t58,\t59])                # Time points (min)\n",
    "\n",
    "t_test = np.array([0, 1, 2, 3, 4, 5, 6, 7, 8, 9, 10,\n",
    "                11, 12, 13, 14, 15, 16, 17, 18, 19, 20, 21])                    # Time points (min)\n",
    "\n",
    "c_control = np.array([46629.5822,\t45262.5924,\t38944.8016,\t41968.5662,\t39470.0741,\n",
    "                   35389.2249,\t37112.7987,\t34422.0024,\t33845.9813,\t31813.524,\n",
    "                   30782.9434,\t29226.4405,\t27259.9242,\t27281.7278,\t26790.9496,\n",
    "                   25085.1379,\t22133.3491,\t22427.7312,\t21338.2308,\t18838.1459,\n",
    "                   19229.6865,\t19123.3036,\t18965.1773,\t17917.88,\t16800.8839,\n",
    "                   17120.304,\t15590.7547,\t15133.0791,\t14335.7846,\t14481.8507,\n",
    "                   13082.9319,\t13615.1729,\t12671.266,\t12284.8735,\t12212.7403,\n",
    "                   10803.6982,\t10626.2898,\t9913.9165,\t9592.189,\t9748.4621,\n",
    "                   9832.5099,\t8845.3218,\t8723.0745,\t8549.6231,\t7938.6471,\n",
    "                   7994.5961,\t7957.8449,\t7420.9003,\t7394.3616,\t6939.229,\n",
    "                   6480.9155,\t6413.2256,\t6032.8,\t6506.7329,\t5738.9208,\n",
    "                   5651.0126,\t5511.8419,\t5562.7665,\t5061.1998,\t5221.2187])   # Test concentrations (#/cm3)\n",
    "\n",
    "c_test = np.array([20733.1887, 17199.744, 15496.7706, 13660.3969, 11310.3118,\n",
    "                     10883.8787, 9122.8056, 8170.2825, 6648.0319, 6299.9989,\n",
    "                     4945.4016, 4635.3165, 3815.3086,3194.0609, 2984.6603,\n",
    "                     2455.5343, 2276.8268, 1918.0086, 1619.6262, 1389.2609,\n",
    "                     1244.1919, 1231.9916])                                     # Control concentrations (#/cm3)\n",
    "\n",
    "sigma_control = np.array([0., 0., 0., 0., 0., 0., 0., 0., 0., 0.,\n",
    "                          0., 0., 0., 0., 0., 0., 0., 0., 0., 0.,\n",
    "                          0., 0., 0., 0., 0., 0., 0., 0., 0., 0.,\n",
    "                          0., 0., 0., 0., 0., 0., 0., 0., 0., 0.,\n",
    "                          0., 0., 0., 0., 0., 0., 0., 0., 0., 0.,\n",
    "                          0.,0., 0., 0., 0., 0., 0., 0., 0., 0.])               # Control standard deviations (#/cm3)\n",
    "\n",
    "\n",
    "sigma_test = np.array([0., 0., 0., 0., 0., 0., 0., 0., 0., 0.,\n",
    "                       0., 0., 0., 0., 0., 0., 0., 0., 0., 0., 0., 0.])\n",
    "\n",
    "\n",
    "\n",
    "c_bg_test=113.7572667                                                           # Test background concentration (#/cm3)\n",
    "c_bg_control=607.22006143                                                       # Test background concentration (#/cm3)\n",
    "\n",
    "V = 1296                                                                    # Chamber volume (ft3)"
   ]
  },
  {
   "cell_type": "markdown",
   "metadata": {
    "id": "SpzIuMsqHvjB"
   },
   "source": [
    "# *Case #3: Real VOC (High Resolution) from 0 to 20 minutes (Schumacher et. al. 2024)*"
   ]
  },
  {
   "cell_type": "code",
   "execution_count": 99,
   "metadata": {
    "id": "Nf_RHBIsH5EI"
   },
   "outputs": [],
   "source": [
    "t_test = np.array([0, 1,\t2,\t3,\t4,\t5,\t6,\t7,\t8,\t9,\t10,\n",
    "                11,\t12,\t13,\t14,\t15, 16,\t17,\t18,\t19,\t20])                        # Time points (min)\n",
    "t_control = np.array([0, 1,\t2,\t3,\t4,\t5,\t6,\t7,\t8,\t9,\t10,\n",
    "                11,\t12,\t13,\t14,\t15, 16,\t17,\t18,\t19,\t20])                        # Time points (min)\n",
    "\n",
    "c_test = np.array([833.75, 761.28, 658.93, 567.20, 499.72, 451.38, 422.54,\n",
    "377.29, 321.06, 295.83, 223.47, 192.89, 168.51, 180.00, 154.03, 117.60, 114.59,\n",
    "94.81, 86.12, 74.05, 65.78])                                                    # test concentrations (ppb)\n",
    "c_control = np.array([929.45, 951.57, 923.26, 906.75, 912.08, 933.73, 915.11,\n",
    "904.99, 891.02, 898.66, 899.28, 881.89, 880.40, 889.34, 888.76, 896.80, 891.25,\n",
    "880.13, 870.49, 862.30, 862.03])                                                # Control concentrations (ppb)\n",
    "\n",
    "sigma_test = np.array([0, 0, 0, 0, 0, 0, 0, 0, 0, 0,\n",
    "                       0, 0, 0, 0, 0, 0, 0, 0, 0, 0, 0])                        # Test standard deviations (ppb)\n",
    "sigma_control = np.array([0, 0, 0, 0, 0, 0, 0, 0, 0, 0,\n",
    "                         0, 0, 0, 0, 0, 0, 0, 0, 0, 0, 0])                      # Test standard deviations (ppb)\n",
    "\n",
    "c_bg_test=0                                                                     # Test background concentration (ppb)\n",
    "c_bg_control=0                                                                  # Control background concentration (ppb)\n",
    "\n",
    "V = 1034.7                                                                      # Chamber volume (ft3)\n",
    "#V = 29.3                                                                       # Chamber volume (m3)"
   ]
  },
  {
   "cell_type": "markdown",
   "metadata": {
    "id": "DKvNnZrzUGzE"
   },
   "source": [
    "# *Case #3: Real VOC (High Resolution) (Schumacher et. al. 2024)*"
   ]
  },
  {
   "cell_type": "code",
   "execution_count": 194,
   "metadata": {
    "id": "AmOFpBuzUMg_"
   },
   "outputs": [],
   "source": [
    "# full dataset\n",
    "\n",
    "t_test = np.array([0, 1,\t2,\t3,\t4,\t5,\t6,\t7,\t8,\t9,\t10,\n",
    "                11,\t12,\t13,\t14,\t15, 16,\t17,\t18,\t19,\t20,\n",
    "                21,\t22,\t23,\t24,\t25,\t26,\t27,\t28,\t29,\t30,\n",
    "                31, 32,\t33,\t34,\t35,\t36,\t37,\t38,\t39,\t40,\n",
    "                41,\t42,\t43,\t44,\t45,\t46,\t47, 48,\t49,\t50,\n",
    "                51,\t52,\t53,\t54,\t55,\t56,\t57,\t58,\t59, 60])                        # Time points (min)\n",
    "\n",
    "t_control = np.array([0, 1,\t2,\t3,\t4,\t5,\t6,\t7,\t8,\t9,\t10,\n",
    "                11,\t12,\t13,\t14,\t15, 16,\t17,\t18,\t19,\t20,\n",
    "                21,\t22,\t23,\t24,\t25,\t26,\t27,\t28,\t29,\t30,\n",
    "                31, 32,\t33,\t34,\t35,\t36,\t37,\t38,\t39,\t40,\n",
    "                41,\t42,\t43,\t44,\t45,\t46,\t47, 48,\t49,\t50,\n",
    "                51,\t52,\t53,\t54,\t55,\t56,\t57,\t58,\t59, 60])                        # Time points (min)\n",
    "\n",
    "\n",
    "c_test = np.array([833.75, 761.28, 658.93, 567.20, 499.72, 451.38, 422.54,\n",
    "377.29, 321.06, 295.83, 223.47, 192.89, 168.51, 180.00, 154.03, 117.60, 114.59,\n",
    "94.81, 86.12, 74.05, 65.78, 61.08, 55.48, 51.09, 47.80, 43.67, 38.95, 35.24,\n",
    "32.66, 30.53, 28.45, 26.76, 27.44, 29.12, 23.70, 24.67, 21.88, 19.60, 18.40,\n",
    "17.51, 19.38, 19.07, 16.17, 14.67, 13.91, 13.55, 12.91, 12.21, 11.86, 12.43,\n",
    "12.45, 12.32, 11.57, 11.21, 11.55, 10.61, 10.93, 11.39, 11.73, 11.32, 11.30 ])  # Test concentrations (ppb)\n",
    "\n",
    "\n",
    "c_control = np.array([929.45, 951.57, 923.26, 906.75, 912.08, 933.73, 915.11,\n",
    "904.99, 891.02, 898.66, 899.28, 881.89, 880.40, 889.34, 888.76, 896.80, 891.25,\n",
    "880.13, 870.49, 862.30, 862.03, 866.09, 874.08, 864.19, 880.57, 872.92, 861.04,\n",
    "856.26, 862.26, 863.67, 843.84, 844.73, 842.50, 838.72, 844.15, 843.70, 855.47,\n",
    "834.44, 830.98, 823.93, 822.37, 825.25, 848.16, 812.26, 885.45, 863.72, 826.80,\n",
    "833.43, 822.13, 809.45, 806.02, 800.97, 801.26, 795.55, 836.46, 827.70, 785.76,\n",
    "786.31, 786.06, 851.69, 837.34])                                                # Control concentrations (ppb)\n",
    "\n",
    "sigma_test = np.array([0, 0, 0, 0, 0, 0, 0, 0, 0, 0,\n",
    "                       0, 0, 0, 0, 0, 0, 0, 0, 0, 0,\n",
    "                       0, 0, 0, 0, 0, 0, 0, 0, 0, 0,\n",
    "                       0, 0, 0, 0, 0, 0, 0, 0, 0, 0,\n",
    "                       0, 0, 0, 0, 0, 0, 0, 0, 0, 0,\n",
    "                       0, 0, 0, 0, 0, 0, 0, 0, 0, 0,\n",
    "                       0])                                                      # Test standard deviations (ppb)\n",
    "\n",
    "\n",
    "sigma_control = np.array([0, 0, 0, 0, 0, 0, 0, 0, 0, 0,\n",
    "                         0, 0, 0, 0, 0, 0, 0, 0, 0, 0,\n",
    "                         0, 0, 0, 0, 0, 0, 0, 0, 0, 0,\n",
    "                         0, 0, 0, 0, 0, 0, 0, 0, 0, 0,\n",
    "                         0, 0, 0, 0, 0, 0, 0, 0, 0, 0,\n",
    "                         0, 0, 0, 0, 0, 0, 0, 0, 0, 0,\n",
    "                         0])                                                    # Control standard deviations (ppb)\n",
    "\n",
    "c_bg_test=  0                                                                   # Background concentration (ppb)\n",
    "c_bg_control=0                                                                  # Background concentration (ppb)\n",
    "\n",
    "\n",
    "V = 1034.7                                                                      # Chamber volume (ft3)\n",
    "#V = 29.3                                                                       # Chamber volume (m3)"
   ]
  },
  {
   "cell_type": "markdown",
   "metadata": {
    "id": "TYKl1XNa3Uo_"
   },
   "source": [
    "# *Case #4: Real VOC (Lower Resolution) (Law et al. 2024) (truncated dataset)*"
   ]
  },
  {
   "cell_type": "code",
   "execution_count": 102,
   "metadata": {
    "id": "pmif5AP73cwt"
   },
   "outputs": [],
   "source": [
    "#0-40 minutes for control and 0-25 minutes for test\n",
    "\n",
    "t_test = np.array([0, 5, 10, 15, 20, 25])                                       # Time points (min)\n",
    "t_control = np.array([0, 5, 10, 15, 20, 25, 30, 35, 40 ])                       # Time points (min)\n",
    "\n",
    "\n",
    "c_test = np.array([0.958783047,\t0.502557891,\t0.40034575,\n",
    "                   0.332838565,\t0.301776099,\t0.272451193])                     # Test concentrations (mg/m3)\n",
    "\n",
    "c_control = np.array([0.972665911, 0.969369171, 0.959128797, 0.959302774,\n",
    "                      0.95947675, 0.950973937, 0.949412555, 0.940911944,\n",
    "                      0.941083718])                                             # Control concentrations (mg/m3)\n",
    "\n",
    "sigma_test = np.array([0, 0, 0, 0, 0, 0 ])                                      # Test standard deviations (mg/m3)\n",
    "sigma_control = np.array([0, 0, 0, 0, 0, 0, 0, 0, 0])                           # Control standard deviations (mg/m3)\n",
    "\n",
    "\n",
    "c_bg_test=0.24                                                                  # Test background concentration (mg/m3)\n",
    "c_bg_control=0.65                                                               # Control background concentration (mg/m3)\n",
    "\n",
    "\n",
    "V = 1059.4                                                                  # Chamber volume (ft3)\n",
    "#V = 30                                                                         # Chamber volume (m3)"
   ]
  },
  {
   "cell_type": "markdown",
   "metadata": {
    "id": "5bohoyshGAK4"
   },
   "source": [
    "\n",
    "\n",
    "\n",
    "# *Case #4: Real VOC (Lower Resolution) (Law et al. 2024) (full dataset)*"
   ]
  },
  {
   "cell_type": "code",
   "execution_count": 231,
   "metadata": {
    "id": "10-9fzcjGFVF"
   },
   "outputs": [],
   "source": [
    "#0-60 minutes dataset (full dataset)\n",
    "\n",
    "t_test = np.array([0, 5, 10, 15, 20, 25, 30, 35, 40, 45, 50, 55, 60])           # Time points (min)\n",
    "t_control = np.array([0, 5, 10, 15, 20, 25, 30, 35, 40, 45, 50, 55, 60])        # Time points (min)\n",
    "\n",
    "c_test = np.array([0.958783047, 0.502557891, 0.40034575, 0.332838565,\n",
    "                   0.301776099, 0.272451193, 0.272625169, 0.251974851,\n",
    "                   0.262558772, 0.262730546, 0.252494577, 0.252666351,\n",
    "                   0.24242818 ])                                                # Test concentrations (mg/m3)\n",
    "\n",
    "c_control = np.array([0.972665911, 0.969369171, 0.959128797, 0.959302774,\n",
    "                      0.95947675, 0.950973937, 0.949412555, 0.940911944,\n",
    "                      0.941083718, 0.910021252, 0.910193026, 0.899954854,\n",
    "                      0.901861986])                                             # Control concentrations (mg/m3)\n",
    "\n",
    "sigma_control = np.array([0, 0, 0, 0, 0, 0, 0, 0, 0, 0, 0, 0, 0])               # Control standard deviations (mg/m3)\n",
    "sigma_test    = np.array([0, 0, 0, 0, 0, 0, 0, 0, 0, 0, 0, 0, 0 ])              # Test standard deviations (mg/m3)\n",
    "\n",
    "\n",
    "c_bg_test=0.24                                                                  # Test background concentration (mg/m3)\n",
    "c_bg_control=0.65                                                               # Control background concentration (mg/m3)\n",
    "\n",
    "V = 1059.4                                                                      # Chamber volume (ft3)\n",
    "#V = 30                                                                         # Chamber volume (m3)"
   ]
  },
  {
   "cell_type": "markdown",
   "metadata": {
    "id": "IeegmqbvChsq"
   },
   "source": [
    "# *Case #5: MS2 bacteriophage (Ratliff et al. 2023) - BPI*"
   ]
  },
  {
   "cell_type": "code",
   "execution_count": 5,
   "metadata": {
    "id": "BLmsy9RfjVpV"
   },
   "outputs": [],
   "source": [
    "t_control = np.array([0, 15, 30, 60, 90 ,120 ])                                 # Time points (min)\n",
    "t_test = np.array([0, 15, 30, 60, 90 ,120 ])                                    # Time points (min)\n",
    "\n",
    "c_test = 10**np.array([8.4619, 7.6279, 7.2164, 6.2079, 5.8852, 5.6428 ])        # Test concentrations (PFU/m3)\n",
    "c_control =  10**np.array([8.4675, 7.6846, 7.1637, 7.0866, 6.2116, 6.1040])     # Control concentrations (PFU/m3)\n",
    "\n",
    "\n",
    "sigma_test =  10**np.array([7.530323742, 6.865654317, 6.617901538,\n",
    "                            5.922693902, 5.870458829, 5.382987778])             # Test standard deviations (PFU/m3)\n",
    "sigma_control =  10**np.array([7.534758077, 7.341206607, 6.445473423,\n",
    "                               6.37830487, 5.659000485, 5.391175913])           # Control standard deviations (PFU/m3)\n",
    "\n",
    "c_bg_test=0                                                                     # Test background concentration (PFU/m3)\n",
    "c_bg_control=0                                                                  # Control background concentration (PFU/m3)\n",
    "\n",
    "\n",
    "V = 3000                                                                        # Chamber volume (ft3)\n",
    "#V = 85                                                                         # Chamber volume (m3)"
   ]
  },
  {
   "cell_type": "markdown",
   "metadata": {
    "id": "-Y-Kh3nmi9Fx"
   },
   "source": [
    "# *Case #6: MS2 bacteriophage (Ratliff et al. 2023) - PCO1*"
   ]
  },
  {
   "cell_type": "code",
   "execution_count": 225,
   "metadata": {
    "id": "AFUVbTIrCiMI"
   },
   "outputs": [],
   "source": [
    "#Notice: All concentrations were originally in logarithmic scale;\n",
    "#here, we convert them back to a numeric (linear) scale.\n",
    "\n",
    "t_control = np.array([0, 15, 30, 60, 90])                                       # Time points (min)\n",
    "t_test = np.array([0, 15, 30, 60, 90])                                          # Time points (min)\n",
    "\n",
    "c_test = 10**np.array([8.11212724060371, 7.589987734, 6.745802232,\n",
    "                       6.013936402, 5.394571206 ])                              # Test concentrations (PFU/m3)\n",
    "c_control = 10**np.array([8.46745953764963, 7.684595602, 7.163725729,\n",
    "                          7.086631702, 6.211568868])                            # Control concentrations (PFU/m3)\n",
    "\n",
    "\n",
    "sigma_test = 10**np.array([7.178489428, 7.114438699, 5.939398725,\n",
    "                           5.094396243, 4.545973627])                           # Test standard deviations (PFU/m3)\n",
    "\n",
    "sigma_control = 10**np.array([7.534758077, 7.341206607, 6.445473423,\n",
    "                              6.37830487, 5.659000485])                         # Control standard deviations (PFU/m3)\n",
    "\n",
    "c_bg_test=0                                                                     # Test background concentration (PFU/m3)\n",
    "c_bg_control=0                                                                  # Control background concentration (PFU/m3)\n",
    "\n",
    "V = 3000                                                                        # Chamber volume (ft3)\n",
    "#V = 85                                                                         # Chamber volume (m3)"
   ]
  },
  {
   "cell_type": "markdown",
   "metadata": {
    "id": "xDBJNHuAlkAb"
   },
   "source": [
    "# *Case #7: MS2 bacteriophage (Ratliff et al. 2023) - PCO2*"
   ]
  },
  {
   "cell_type": "code",
   "execution_count": 228,
   "metadata": {
    "id": "jKQ7dpGblpbg"
   },
   "outputs": [],
   "source": [
    "t_control = np.array([0, 15, 30, 60, 90])                                       # Time points (min)\n",
    "t_test = np.array([0, 15, 30, 60, 90])                                          # Time points (min)\n",
    "\n",
    "c_test = 10**np.array([8.032891171, 7.087704857, 6.424694684,\n",
    "                   5.320557829, 4.709637767])                                   # Test concentrations (PFU/m3)\n",
    "c_control = 10**np.array([8.467459538, 7.684595602, 7.163725729,\n",
    "                      7.086631702, 6.211568868])                                # Control concentrations (PFU/m3)\n",
    "\n",
    "sigma_test = 10**np.array([6.981061496, 6.122931736, 5.667663947,\n",
    "                           4.418605606, 3.820592639])                           # Test standard deviations (PFU/m3)\n",
    "sigma_control =  10**np.array([ 7.534758077, 7.341206607, 6.445473423,\n",
    "                               6.37830487, 5.659000485])                        # Control standard deviations (PFU/m3)\n",
    "\n",
    "c_bg_test=0                                                                     # Test background concentration (mg/m3)\n",
    "c_bg_control=0                                                                  # Control background concentration (mg/m3)\n",
    "\n",
    "V = 3000                                                                        # Chamber volume (ft3)\n",
    "#V = 85                                                                         # Chamber volume (m3)"
   ]
  },
  {
   "cell_type": "markdown",
   "metadata": {
    "id": "AibLoiQbXPLw"
   },
   "source": [
    "# *Case #8: Φ6 bacteriophage (Lin et al. 2017) - UVGI 2-stage*"
   ]
  },
  {
   "cell_type": "code",
   "execution_count": 212,
   "metadata": {
    "id": "xITOaWcdXH5u"
   },
   "outputs": [],
   "source": [
    "t_control = np.array([0, 10, 20, 30])                                           # Time points (secs)\n",
    "t_control =  t_control/60                                                       # Time points (mins)\n",
    "\n",
    "t_test = np.array([0, 10, 20, 30])                                              # Time points (secs)\n",
    "t_test =  t_test/60                                                             # Time points (mins)\n",
    "\n",
    "sf=np.array([1, 0.035, 0.023, 0.022])                                           # Survival fraction\n",
    "\n",
    "c_test1 = np.array([177.8, 5.5, 3, 2])                                          # Test concentrations (PFU/L)\n",
    "c_test = c_test1*1000                                                           # Test concentrations (PFU/m3)\n",
    "\n",
    "c_control1 = c_test1/sf                                                         # Test concentrations (PFU/m3)\n",
    "c_control = c_control1*1000\n",
    "\n",
    "\n",
    "\n",
    "sigma_test    = np.array([0, 0, 0, 0 ])                                         # Test standard deviations (PFU/m3)\n",
    "sigma_control = np.array([0, 0, 0, 0 ])                                         # Control standard deviations (PFU/m3)\n",
    "\n",
    "c_bg_test=0                                                                     # Test background concentration (PFU/m3)\n",
    "c_bg_control=0                                                                  # Control background concentration (PFU/m3)\n",
    "\n",
    "V = 206                                                                         # Chamber volume (ft3)\n",
    "#V = 5.8                                                                        # Chamber volume (m3)"
   ]
  },
  {
   "cell_type": "markdown",
   "metadata": {},
   "source": [
    "# **Calculation**"
   ]
  },
  {
   "cell_type": "markdown",
   "metadata": {
    "id": "tgtO_p2RsMVM"
   },
   "source": [
    "\n",
    "# **Monte Carlo Analysis**\n"
   ]
  },
  {
   "cell_type": "markdown",
   "metadata": {
    "id": "IczpG5ak3yjg"
   },
   "source": [
    "## 1. First-order decay method:\n"
   ]
  },
  {
   "cell_type": "markdown",
   "metadata": {
    "id": "G_J7t1ZY0J2K"
   },
   "source": [
    "### 1.1 ECA using log-linear regression"
   ]
  },
  {
   "cell_type": "markdown",
   "metadata": {
    "id": "JAHO_3aXtNCm"
   },
   "source": [
    "The loss rate is calculated based on the following formula:\n",
    "\n",
    "$$\n",
    "K = \\frac{\\sum_{i=0}^{np} t_i \\ln\\left(\\frac{C_i - C_{bg}}{C_0 - C_{bg}}\\right)}{\\sum_{i=0}^{np} t_i^2} \\tag{1}\n",
    "$$\n",
    "\n",
    "Then, loss rates will be plugged into the CADR formula to obtain a value for CADR:\n",
    "\n",
    "$$\n",
    "CADR = V(K_{\\text{Test}} - K_{\\text{Control}}) \\tag{2}\n",
    "$$\n"
   ]
  },
  {
   "cell_type": "markdown",
   "metadata": {
    "id": "SqWU9aCZ_BSc"
   },
   "source": [
    "### 1.2. Log-linear error estimation"
   ]
  },
  {
   "cell_type": "markdown",
   "metadata": {
    "id": "Slpm0t5a09C8"
   },
   "source": [
    "Uncertainty propagation for log-linear regression approach:\n",
    "\n",
    "Linear regression was used to estimate the slope through the straight line using the follwoing formula:\n",
    "\n",
    "\\begin{equation}\n",
    "K_{\\text{reg}} = - \\frac{\\sum_{i=1}^{n} t_i \\ln\\left(\\frac{C(t_i)}{C(0)}\\right)}{\\sum_{i=1}^{n} t_i^2}\n",
    "\\tag{3}\n",
    "\\end{equation}\n",
    "\n",
    "We also know that the error of regression can be obtained using:\n",
    "\\begin{equation}\n",
    "\\delta = \\sqrt{\\frac{\\sum_{i=1}^{n} \\left( y_i - \\hat{y}_i \\right)^2}{(n-1) \\sum_{i=1}^{n} x_i^2}}\n",
    "\\tag{4}\n",
    "\\end{equation}\n",
    "\n",
    "\n",
    "Based on the aformentioned formula, the regression error in the resulting loss rate is thus\n",
    "\n",
    "\n",
    "\\begin{equation}\n",
    "\\delta K_{\\text{reg}} =\n",
    "\\sqrt{\n",
    "  \\frac{\n",
    "    \\sum_{i=1}^{n} \\left( \\ln\\left(\\frac{C(t_i)}{C(0)}\\right)\n",
    "    - t_i \\frac{ -\\sum_{i=1}^{n} t_i \\ln\\left(\\frac{C(t_i)}{C(0)}\\right) }{ \\sum_{i=1}^{n} t_i^2 }\n",
    "    \\right)^2\n",
    "  }{\n",
    "    (n-1) \\sum_{i=1}^{n} t_i^2\n",
    "  }\n",
    "}\n",
    "\\tag{5}\n",
    "\\end{equation}\n",
    "\n",
    "\n",
    "\n",
    "By applying MC method on both $K_{\\text{reg}}$ and $\\delta K_{\\text{reg}}$ we obtain:\n",
    "\n",
    "\n",
    "\\begin{equation}\n",
    "K_{\\text{reg}} = \\bar{K}_{\\text{reg}} \\pm \\sigma_{K_{\\text{reg}}}\n",
    "\\tag{6}\n",
    "\\end{equation}\n",
    "\n",
    "\n",
    "\\begin{equation}\n",
    "\\delta K_{\\text{reg}} = (\\delta K_{\\text{reg}} \\pm \\sigma_{\\delta K_{\\text{reg}}})\n",
    "\\tag{7}\n",
    "\\end{equation}\n",
    "\n",
    " which can be combined as follows and results in total error for log-linear approach\n",
    "\n",
    "\\begin{equation}\n",
    "K = \\bar{K}_{\\text{reg}} \\pm \\sigma_{K_{\\text{reg}}} \\pm (\\delta K_{\\text{reg}} \\pm \\sigma_{\\delta K_{\\text{reg}}})\n",
    "\\tag{8}\n",
    "\\end{equation}\n",
    "\n",
    "\n",
    "The overall error for ECA is calculated using equation 9\n",
    "\\begin{equation}\n",
    "\\delta_{ECA} = V \\times \\sqrt{(E_{K_{\\text{reg,test}}})^2 + (E_{K_{\\text{reg,control}}})^2}\n",
    "\\tag{9}\n",
    "\\end{equation}\n",
    "\n",
    "\n"
   ]
  },
  {
   "cell_type": "markdown",
   "metadata": {},
   "source": [
    "# **Execute the cell below to perform log-linear regression calculations**"
   ]
  },
  {
   "cell_type": "code",
   "execution_count": 7,
   "metadata": {
    "colab": {
     "base_uri": "https://localhost:8080/",
     "height": 562
    },
    "id": "NA9m7cIFOou_",
    "outputId": "26afc104-7846-4aa5-856a-cd0acf96bdab"
   },
   "outputs": [
    {
     "data": {
      "image/png": "[encoded data removed]",
      "text/plain": [
       "<Figure size 640x480 with 1 Axes>"
      ]
     },
     "metadata": {},
     "output_type": "display_data"
    },
    {
     "data": {
      "image/png": "[encoded data removed]",
      "text/plain": [
       "<Figure size 640x480 with 1 Axes>"
      ]
     },
     "metadata": {},
     "output_type": "display_data"
    },
    {
     "data": {
      "image/png": "[encoded data removed]",
      "text/plain": [
       "<Figure size 640x480 with 1 Axes>"
      ]
     },
     "metadata": {},
     "output_type": "display_data"
    },
    {
     "name": "stdout",
     "output_type": "stream",
     "text": [
      "Mean K_reg value for test from Monte Carlo simulations = 0.0646 1/time (1/min by default)\n",
      "\n",
      "Standard deviation of K_reg value for test from Monte Carlo simulations = 0.0035 1/time (1/min by default)\n",
      "\n",
      "Mean K_reg value for control from Monte Carlo simulations = 0.0527 1/time (1/min by default)\n",
      "\n",
      "Standard deviation of K_reg value for control from Monte Carlo simulations = 0.0016 1/time (1/min by default)\n",
      "\n",
      "Mean δK_reg value for test from Monte Carlo simulations = 0.0066 1/time (1/min by default)\n",
      "\n",
      "Standard deviation of δK_reg value for test from Monte Carlo simulations = 0.0011 1/time (1/min by default)\n",
      "\n",
      "Mean δK_reg value for control from Monte Carlo simulations = 0.0058 1/time (1/min by default)\n",
      "\n",
      "Standard deviation of δK_reg value for control from Monte Carlo simulations = 0.0008 1/time (1/min by default)\n",
      "\n",
      "\n",
      "\n",
      "Nominal CADR = 34.24 CFM\n",
      "\n",
      "Mean CADR value from Monte Carlo simulations = 35.68 CFM\n",
      "\n",
      "Overall uncertainty for log-linear CADR: 41.56 CFM\n",
      "\n",
      "Overall error for kt: 0.0112 1/time (1/min by default)\n",
      "\n",
      "Overall error for kc: 0.0081 1/time (1/min by default)\n",
      "\n"
     ]
    }
   ],
   "source": [
    "import numpy as np\n",
    "import matplotlib.pyplot as plt\n",
    "import warnings\n",
    "warnings.filterwarnings(\"ignore\", category=RuntimeWarning)\n",
    "\n",
    "num_simulations = 10000                                                         # Number of MC simulation iterations\n",
    "\n",
    "################# Loss rate calculator function (Equation 1) ###################\n",
    "\n",
    "def Loss_Rate(t, c, c_bg):\n",
    "\n",
    "    ln_c_ratio = -np.log((c-c_bg) / (c[0]-c_bg))\n",
    "    numerator = np.sum((t * ln_c_ratio) )\n",
    "    denominator = np.sum((t ** 2) )\n",
    "\n",
    "    return (numerator / denominator)\n",
    "\n",
    "################################### Nominal CADR ###############################\n",
    "'''\n",
    "Definition: The nominal CADR is the CADR calculated directly using provided mean concentration values\n",
    "from experiment, not from MC simulations\n",
    "'''\n",
    "Nominal_CADR = V * (Loss_Rate(t_test, c_test, c_bg_test) - Loss_Rate(t_control, c_control, c_bg_control))\n",
    "\n",
    "\n",
    "######################### Monte Carlo simulations ##############################\n",
    "\n",
    "CADR_values = np.zeros(num_simulations)\n",
    "\n",
    "for i in range(num_simulations):\n",
    "    c_test_simulated = np.random.normal((c_test), (sigma_test))\n",
    "    c_control_simulated = np.random.normal((c_control),(sigma_control))\n",
    "\n",
    "    CADR_values[i] = V * (Loss_Rate(t_test, c_test_simulated, c_bg_test) -\n",
    "                          Loss_Rate(t_control, c_control_simulated, c_bg_control))\n",
    "\n",
    "# Calculate mean and standard deviation of CADR\n",
    "\n",
    "# Use np.isnan() to identify NaN values and create a boolean mask\n",
    "mask = ~np.isnan(CADR_values)\n",
    "\n",
    "# Apply the mask to filter out NaN values\n",
    "CADR_values=  CADR_values[mask]\n",
    "\n",
    "'''\n",
    "Notice: if output distribution is not normal, one can eleminate n% percentile of\n",
    "data from output distribution. One can readily detect non-normal distribution by\n",
    "either comparing nominal CADR to MC CADR, or by visual inspection of the output plot.\n",
    "By eleminating n% of the data from both sided, the MC CADR will gradually\n",
    "converge to the nominal distribution. By default, this code excludes the top and bottom 5% \n",
    "of the output distributions to exclude implausible long tails on either end (i.e., 10% total).\n",
    "'''\n",
    "\n",
    "n=10 #percentile\n",
    "CADR_mean = np.mean(CADR_values[(CADR_values > np.percentile(CADR_values, n/2)) & (CADR_values < np.percentile(CADR_values, 100-(n/2)))])\n",
    "CADR_std = np.std(CADR_values[(CADR_values > np.percentile(CADR_values, n/2)) & (CADR_values < np.percentile(CADR_values, 100-(n/2)))])\n",
    "\n",
    "\n",
    "################################### Plotting ###################################\n",
    "plt.hist(CADR_values, bins=50, alpha=0.7, color='b', edgecolor='black')\n",
    "plt.title('Distribution of ECA values from Monte Carlo simulations \\n(first-order decay method)')\n",
    "plt.xlabel('CADR (CFM) ')\n",
    "plt.ylabel('Frequency')\n",
    "\n",
    "# Disable scientific notation for x-axis and y-axis\n",
    "plt.ticklabel_format(style='plain', axis='x')\n",
    "plt.ticklabel_format(style='plain', axis='y')\n",
    "\n",
    "# Optionally, adjust the format of the ticks\n",
    "from matplotlib.ticker import ScalarFormatter\n",
    "plt.gca().xaxis.set_major_formatter(ScalarFormatter(useOffset=False))\n",
    "plt.gca().yaxis.set_major_formatter(ScalarFormatter(useOffset=False))\n",
    "\n",
    "plt.show()\n",
    "\n",
    "\n",
    "###########################  Loss Rate Calculation  ############################\n",
    "# Calculates loss rate using Eq(3)\n",
    "def K_reg(t, c, c_bg):\n",
    "    ln_c_ratio = -np.log((c - c_bg) / (c[0] - c_bg))\n",
    "    numerator = np.sum(t * ln_c_ratio)\n",
    "    denominator = np.sum(t ** 2)\n",
    "    #print(numerator / denominator)\n",
    "    return numerator / denominator\n",
    "\n",
    "\n",
    "##############################  Regression Error  ##############################\n",
    "# Calculates regression error using Eq(5)\n",
    "def delta_K_reg(t, c, k, c_bg):\n",
    "    ln_c_ratio = -np.log((c - c_bg) / (c[0] - c_bg))\n",
    "    residual_sum = np.sum(((ln_c_ratio - k * t)) ** 2)\n",
    "    return np.sqrt(residual_sum / ((len(t) - 1) * np.sum(t ** 2)))\n",
    "\n",
    "# Initialize result arrays\n",
    "K_reg_test = []\n",
    "K_reg_control = []\n",
    "delta_k_reg_test = []\n",
    "delta_k_reg_control = []\n",
    "\n",
    "# Monte Carlo simulations for K_reg\n",
    "\n",
    "i = 0\n",
    "while i < num_simulations:\n",
    "    c_test_sim = np.random.normal(c_test, sigma_test)\n",
    "    c_control_sim = np.random.normal(c_control, sigma_control)\n",
    "\n",
    "    if np.any((c_test_sim - c_bg_test) <= 0) or (c_test_sim[0] - c_bg_test) <= 0:\n",
    "        continue\n",
    "    if np.any((c_control_sim - c_bg_control) <= 0) or (c_control_sim[0] - c_bg_control) <= 0:\n",
    "        continue\n",
    "\n",
    "    try:\n",
    "        K_reg_test.append(K_reg(t_test, c_test_sim, c_bg_test))\n",
    "        K_reg_control.append(K_reg(t_control, c_control_sim, c_bg_control))\n",
    "        i += 1\n",
    "    except:\n",
    "        continue  # Skip samples that are not a numnumberner (NAN)\n",
    "\n",
    "# Monte Carlo simulations for delta_K_reg\n",
    "i = 0\n",
    "while i < num_simulations:\n",
    "    c_test_sim = np.random.normal(c_test, sigma_test)\n",
    "    c_control_sim = np.random.normal(c_control, sigma_control)\n",
    "\n",
    "    if np.any((c_test_sim - c_bg_test) <= 0) or (c_test_sim[0] - c_bg_test) <= 0:\n",
    "        continue\n",
    "    if np.any((c_control_sim - c_bg_control) <= 0) or (c_control_sim[0] - c_bg_control) <= 0:\n",
    "        continue\n",
    "\n",
    "    try:\n",
    "        k_test = K_reg(t_test, c_test_sim, c_bg_test)\n",
    "        k_control = K_reg(t_control, c_control_sim, c_bg_control)\n",
    "        delta_k_reg_test.append(delta_K_reg(t_test, c_test_sim, k_test, c_bg_test))\n",
    "        delta_k_reg_control.append(delta_K_reg(t_control, c_control_sim, k_control, c_bg_control))\n",
    "        i += 1\n",
    "    except:\n",
    "        continue  # Skip bad samples\n",
    "\n",
    "# Convert to numpy arrays\n",
    "K_reg_test = np.array(K_reg_test)\n",
    "K_reg_control = np.array(K_reg_control)\n",
    "delta_k_reg_test = np.array(delta_k_reg_test)\n",
    "delta_k_reg_control = np.array(delta_k_reg_control)\n",
    "\n",
    "'''\n",
    "Notice: if output distribution is not normal, one can eleminate n% percentile of\n",
    "data from output distribution. One can readily detect non-normal distribution by\n",
    "either comparing nominal CADR to MC CADR, or by visual inspection of the output plot.\n",
    "By eleminating n% of the data from both sided, the MC CADR will gradually\n",
    "converge to the nominal distribution. By default, this code excludes the top and bottom 5% \n",
    "of the output distributions to exclude implausible long tails on either end (i.e., 10% total).\n",
    "'''\n",
    "\n",
    "n=10 #percentile (%)\n",
    "\n",
    "if np.all(sigma_test == 0) and np.all(sigma_control == 0):\n",
    "\n",
    "  K_reg_mean_test = np.mean(K_reg_test)\n",
    "  K_reg_std_test = np.std(K_reg_test)\n",
    "  K_reg_mean_control = np.mean(K_reg_control)\n",
    "  K_reg_std_control = np.std(K_reg_control)\n",
    "\n",
    "  delta_k_reg_mean_test = np.mean(delta_k_reg_test)\n",
    "  delta_k_reg_std_test = np.std(delta_k_reg_test)\n",
    "  delta_k_reg_mean_control = np.mean(delta_k_reg_control)\n",
    "  delta_k_reg_std_control = np.std(delta_k_reg_control)\n",
    "else:\n",
    "\n",
    "    K_reg_mean_test = np.mean(K_reg_test[(K_reg_test > np.percentile(K_reg_test, n/2)) & (K_reg_test < np.percentile(K_reg_test, 100-(n/2)))])\n",
    "    K_reg_std_test = np.std(K_reg_test[(K_reg_test > np.percentile(K_reg_test, n/2)) & (K_reg_test < np.percentile(K_reg_test, 100-(n/2)))])\n",
    "    K_reg_mean_control = np.mean(K_reg_control[(K_reg_control > np.percentile(K_reg_control, n/2)) & (K_reg_control < np.percentile(K_reg_control, 100-(n/2)))])\n",
    "    K_reg_std_control = np.std(K_reg_control[(K_reg_control > np.percentile(K_reg_control, n/2)) & (K_reg_control < np.percentile(K_reg_control, 100-(n/2)))])\n",
    "\n",
    "    delta_k_reg_mean_test = np.mean(delta_k_reg_test[(delta_k_reg_test > np.percentile(delta_k_reg_test, n/2)) & (delta_k_reg_test < np.percentile(delta_k_reg_test, 100-(n/2)))])\n",
    "    delta_k_reg_std_test = np.std(delta_k_reg_test[(delta_k_reg_test > np.percentile(delta_k_reg_test, n/2)) & (delta_k_reg_test < np.percentile(delta_k_reg_test, 100-(n/2)))])\n",
    "    delta_k_reg_mean_control = np.mean(delta_k_reg_control[(delta_k_reg_control > np.percentile(delta_k_reg_control, n/2)) & (delta_k_reg_control < np.percentile(delta_k_reg_control, 100-(n/2)))])\n",
    "    delta_k_reg_std_control = np.std(delta_k_reg_control[(delta_k_reg_control > np.percentile(delta_k_reg_control, n/2)) & (delta_k_reg_control < np.percentile(delta_k_reg_control, 100-(n/2)))])\n",
    "\n",
    "# Plotting the distribution of k1 values\n",
    "plt.hist(K_reg_test, bins=50, alpha=0.7, color='b', edgecolor='black', label='k1 Test')\n",
    "plt.hist(K_reg_control, bins=50, alpha=0.7, color='r', edgecolor='black', label='k1 Control')\n",
    "plt.title('Distribution of $K_{reg}$ values from Monte Carlo simulations')\n",
    "plt.xlabel('$K_{reg}$')\n",
    "plt.ylabel('Frequency')\n",
    "plt.legend(['Test', 'Control'])\n",
    "plt.show()\n",
    "\n",
    "# Plotting the distribution of k2 values\n",
    "plt.hist(delta_k_reg_test, bins=50, alpha=0.7, color='b', edgecolor='black', label='k2 Test')\n",
    "plt.hist(delta_k_reg_control, bins=50, alpha=0.7, color='r', edgecolor='black', label='k2 Control')\n",
    "plt.title('Distribution of $\\delta K_{reg}$ values from Monte Carlo simulations')\n",
    "plt.xlabel('$\\delta K_{reg}$')\n",
    "plt.ylabel('Frequency')\n",
    "plt.legend(['Test', 'Control'])\n",
    "plt.show()\n",
    "\n",
    "# Output results\n",
    "print(f\"Mean K_reg value for test from Monte Carlo simulations = {K_reg_mean_test:.4f}\",\"1/time (1/min by default)\\n\")\n",
    "\n",
    "print(f\"Standard deviation of K_reg value for test from Monte Carlo simulations = {K_reg_std_test:.4f}\",\"1/time (1/min by default)\\n\")\n",
    "print(f\"Mean K_reg value for control from Monte Carlo simulations = {K_reg_mean_control:.4f}\",\"1/time (1/min by default)\\n\")\n",
    "print(f\"Standard deviation of K_reg value for control from Monte Carlo simulations = {K_reg_std_control:.4f}\",\"1/time (1/min by default)\\n\")\n",
    "\n",
    "print(f\"Mean δK_reg value for test from Monte Carlo simulations = {delta_k_reg_mean_test:.4f}\",\"1/time (1/min by default)\\n\")\n",
    "print(f\"Standard deviation of δK_reg value for test from Monte Carlo simulations = {delta_k_reg_std_test:.4f}\",\"1/time (1/min by default)\\n\")\n",
    "print(f\"Mean δK_reg value for control from Monte Carlo simulations = {delta_k_reg_mean_control:.4f}\",\"1/time (1/min by default)\\n\")\n",
    "print(f\"Standard deviation of δK_reg value for control from Monte Carlo simulations = {delta_k_reg_std_control:.4f}\",\"1/time (1/min by default)\\n\")\n",
    "\n",
    "overall_error_kt = K_reg_std_test + delta_k_reg_mean_test + delta_k_reg_std_test\n",
    "overall_error_kc = K_reg_std_control + delta_k_reg_mean_control + delta_k_reg_std_control\n",
    "overall_uncertainty_CADR_LL = V * np.sqrt(overall_error_kt**2 + overall_error_kc**2)\n",
    "\n",
    "print(\"\\n\")\n",
    "\n",
    "print(f\"Nominal CADR = {Nominal_CADR:.2f}\",\"CFM\\n\")\n",
    "print(f\"Mean CADR value from Monte Carlo simulations = {CADR_mean:.2f}\",\"CFM\\n\")\n",
    "print(f\"Overall uncertainty for log-linear CADR: {overall_uncertainty_CADR_LL:.2f}\",\"CFM\\n\")\n",
    "\n",
    "print(f\"Overall error for kt: {overall_error_kt:.4f}\",\"1/time (1/min by default)\\n\")\n",
    "print(f\"Overall error for kc: {overall_error_kc:.4f}\",\"1/time (1/min by default)\\n\")\n",
    "\n"
   ]
  },
  {
   "cell_type": "markdown",
   "metadata": {
    "id": "cdL0b-AHzuCi"
   },
   "source": [
    "## 2. Integral approach\n",
    "\n",
    "\n",
    "\n"
   ]
  },
  {
   "cell_type": "markdown",
   "metadata": {
    "id": "mEzVQsqFAls0"
   },
   "source": [
    "# CADR Formula\n",
    "\n",
    "The CADR based on the integral method is given by:\n",
    "\n",
    "$$\n",
    "\\text{CADR}_{\\text{Integral}} = \n",
    "\\frac{V(C_{\\text{test}}(0)-C_{\\text{last}})}\n",
    "     {\\int_{0}^{t_{\\text{last}}} (C_{\\text{test}}(t)-C_{bg, \\text{test}}) \\, dt}\n",
    "- \n",
    "\\frac{V(C_{\\text{control}}(0)-C_{\\text{last}})}\n",
    "     {\\int_{0}^{t_{\\text{last}}} (C_{\\text{control}}(t)-C_{bg, \\text{control}}) \\, dt}\n",
    "\\tag{11}\n",
    "$$\n",
    "\n",
    "Where the integral in the denominator can be calculated using either the **trapezoidal** or **logarithmic trapezoidal** method. Here, we use the **logarithmic trapezoidal** method, given by:\n",
    "\n",
    "$$\n",
    "\\int_{0}^{t_{\\text{last}}} C(t) \\, dt =\n",
    "\\sum_{n=1}^{t_{\\text{last}}} \n",
    "\\left( \n",
    "\\frac{t_i - t_{i-1}}{\\ln\\left( \\frac{C(t_{i-1}) - C_{bg}}{C(t_i) - C_{bg}} \\right)} \n",
    "\\left( C(t_{i-1}) - C(t_i) \\right) \n",
    "\\right)\n",
    "\\tag{12}\n",
    "$$\n"
   ]
  },
  {
   "cell_type": "markdown",
   "metadata": {},
   "source": [
    "# **Execute the cells below to perform log-linear regression calculations**"
   ]
  },
  {
   "cell_type": "markdown",
   "metadata": {
    "id": "ZUoU3L3WVcPp"
   },
   "source": [
    "### 2.1. Log-Trapezoidal Method"
   ]
  },
  {
   "cell_type": "code",
   "execution_count": 9,
   "metadata": {
    "colab": {
     "base_uri": "https://localhost:8080/",
     "height": 667
    },
    "id": "9tc0-dbJAkDH",
    "outputId": "06994e7d-401e-457f-edd3-24f5f6c11600"
   },
   "outputs": [
    {
     "data": {
      "image/png": "[encoded data removed]",
      "text/plain": [
       "<Figure size 640x480 with 1 Axes>"
      ]
     },
     "metadata": {},
     "output_type": "display_data"
    },
    {
     "name": "stdout",
     "output_type": "stream",
     "text": [
      "Control loss rate = 0.0954 1/time (1/min by default)\n",
      "\n",
      "Test loss rate = 0.1118 1/time (1/min by default)\n",
      "\n",
      "Nominal CADR value (CFM) = 49.39 CFM\n",
      "\n",
      "Mean CADR value from Monte Carlo simulations = 43.30 CFM\n",
      "\n",
      "Standard deviation of CADR value from Monte Carlo simulations = 47.41 CFM\n",
      "\n",
      "Percent error in CADR = 109.5 %\n",
      "\n"
     ]
    }
   ],
   "source": [
    "import warnings\n",
    "warnings.filterwarnings(\"ignore\", category=RuntimeWarning)\n",
    "\n",
    "num_simulations = 10000\n",
    "\n",
    "################## Log-Trapezoidal method (Equation 12) #########################\n",
    "\n",
    "def compute_integral(t, c, c_bg):\n",
    "    N = len(t)\n",
    "    integral_sum = 0.0\n",
    "\n",
    "    for i in range(1, N):\n",
    "\n",
    "        t_diff = t[i] - t[i-1]\n",
    "        ln_c_ratio = np.log((c[i-1]-c_bg) / (c[i]-c_bg))\n",
    "        #print(ln_c_ratio)\n",
    "        c_diff = c[i-1] - c[i]\n",
    "        integral_sum += (t_diff / ln_c_ratio) * c_diff\n",
    "\n",
    "    return integral_sum\n",
    "\n",
    "########Function to compute the CADR component for either test or control#######\n",
    "def Loss_Rate(t, c, c_bg):\n",
    "\n",
    "    integral_c = compute_integral(t, c, c_bg)\n",
    "    #print(integral_c)\n",
    "    return (c[0]-c[-1]) / integral_c\n",
    "\n",
    "\n",
    "# The following line calculates the CADR without considering errors, using only the provided central velues\n",
    "test_loss = Loss_Rate(t_test, c_test, c_bg_test)\n",
    "control_loss = Loss_Rate(t_control, c_control, c_bg_control)\n",
    "CADR_nominal = V* (Loss_Rate(t_test, c_test, c_bg_test) - Loss_Rate(t_control, c_control, c_bg_control))\n",
    "\n",
    "############################# Monte Carlo simulations###########################\n",
    "CADR_values = np.zeros(num_simulations)\n",
    "\n",
    "for i in range(num_simulations):\n",
    "\n",
    "    c_test_simulated = np.random.normal(c_test, sigma_test)\n",
    "    c_control_simulated = np.random.normal(c_control, sigma_control)\n",
    "    CADR_values[i] = V * (Loss_Rate(t_test, c_test_simulated, c_bg_test) - Loss_Rate(t_control, c_control_simulated, c_bg_control))\n",
    "\n",
    "############## Calculate mean and standard deviation of MC CADR ################\n",
    "\n",
    "# Use np.isnan() to identify NaN values and create a boolean mask\n",
    "mask = ~np.isnan(CADR_values)\n",
    "\n",
    "# Apply the mask to filter out NaN values\n",
    "CADR_values=  CADR_values[mask]\n",
    "\n",
    "'''\n",
    "Notice: if output distribution is not normal, one can eleminate n% percentile of\n",
    "data from output distribution. One can readily detect non-normal distribution by\n",
    "either comparing nominal CADR to MC CADR, or by visual inspection of the output plot.\n",
    "By eleminating n% of the data from both sided, the MC CADR will gradually\n",
    "converge to the nominal distribution. By default, this code excludes the top and bottom 5% \n",
    "of the output distributions to exclude implausible long tails on either end (i.e., 10% total).\n",
    "'''\n",
    "\n",
    "n=10 #percentile\n",
    "CADR_mean = np.mean(CADR_values[(CADR_values > np.percentile(CADR_values, n/2)) & (CADR_values < np.percentile(CADR_values, 100-(n/2)))])\n",
    "CADR_std = np.std(CADR_values[(CADR_values > np.percentile(CADR_values, n/2)) & (CADR_values < np.percentile(CADR_values, 100-(n/2)))])\n",
    "cadr_percent_error = CADR_std / CADR_mean * 100\n",
    "\n",
    "# Plotting the distribution of CADR values\n",
    "plt.hist(CADR_values, bins=50, alpha=0.7, color='b', edgecolor='black')\n",
    "plt.title('Distribution of CADR values from Monte Carlo simulations \\n Integral method (log-trapezoidal)')\n",
    "plt.xlabel('CADR (CFM)')\n",
    "plt.ylabel('Frequency')\n",
    "\n",
    "# Disable scientific notation for x-axis and y-axis\n",
    "plt.ticklabel_format(style='plain', axis='x')\n",
    "plt.ticklabel_format(style='plain', axis='y')\n",
    "\n",
    "# Optionally, adjust the format of the ticks\n",
    "from matplotlib.ticker import ScalarFormatter\n",
    "plt.gca().xaxis.set_major_formatter(ScalarFormatter(useOffset=False))\n",
    "plt.gca().yaxis.set_major_formatter(ScalarFormatter(useOffset=False))\n",
    "\n",
    "plt.show()\n",
    "\n",
    "print(f\"Control loss rate = {control_loss:.4f}\",\"1/time (1/min by default)\\n\")\n",
    "print(f\"Test loss rate = {test_loss:.4f}\",\"1/time (1/min by default)\\n\")\n",
    "print(f\"Nominal CADR value (CFM) = {CADR_nominal:.2f}\",\"CFM\\n\")\n",
    "\n",
    "print(f\"Mean CADR value from Monte Carlo simulations = {CADR_mean:.2f}\",\"CFM\\n\")\n",
    "print(f\"Standard deviation of CADR value from Monte Carlo simulations = {CADR_std:.2f}\",\"CFM\\n\")\n",
    "print(f\"Percent error in CADR = {cadr_percent_error:.1f}\",\"%\\n\")\n",
    "\n"
   ]
  },
  {
   "cell_type": "markdown",
   "metadata": {
    "id": "lhSzULJvnTrj"
   },
   "source": [
    "### 2.2. Trapezoidal Method (usually not needed)"
   ]
  },
  {
   "cell_type": "code",
   "execution_count": 230,
   "metadata": {
    "colab": {
     "base_uri": "https://localhost:8080/",
     "height": 667
    },
    "id": "wlD8fLenMrvx",
    "outputId": "8b214c90-e639-4720-959c-5dc9102487f6"
   },
   "outputs": [
    {
     "data": {
      "image/png": "[encoded data removed]",
      "text/plain": [
       "<Figure size 640x480 with 1 Axes>"
      ]
     },
     "metadata": {},
     "output_type": "display_data"
    },
    {
     "name": "stdout",
     "output_type": "stream",
     "text": [
      "Control loss rate = 0.0801 1/time (1/min by default)\n",
      "\n",
      "Test loss rate = 0.1018 1/time (1/min by default)\n",
      "\n",
      "Nominal CADR value (CFM) = 65.14 CFM\n",
      "\n",
      "Mean CADR value from Monte Carlo simulations = 63.76 CFM\n",
      "\n",
      "Standard deviation of CADR value from Monte Carlo simulations = 21.61 CFM\n",
      "\n",
      "Percent error in CADR = 33.9 %\n",
      "\n"
     ]
    }
   ],
   "source": [
    "import numpy as np\n",
    "import matplotlib.pyplot as plt\n",
    "\n",
    "\n",
    "num_simulations = 10000\n",
    "\n",
    "################################ Trapezoidal method ############################\n",
    "def compute_integral(t, c, c_bg):\n",
    "    N = len(t)\n",
    "    integral_sum = 0.0\n",
    "\n",
    "    for i in range(1, N):\n",
    "\n",
    "        t_diff = t[i] - t[i-1]\n",
    "        c_sum = c[i-1] + c[i]\n",
    "        integral_sum += (t_diff * c_sum) / 2\n",
    "\n",
    "    return integral_sum\n",
    "\n",
    "########Function to compute the CADR component for either test or control#######\n",
    "def Loss_Rate(t, c, c_bg):\n",
    "\n",
    "    integral_c = compute_integral(t, c, c_bg)\n",
    "    #print(integral_c)\n",
    "    return (c[0]-c[-1]) / integral_c\n",
    "\n",
    "\n",
    "# The following line calculates the CADR without considering errors, using only the provided central velues\n",
    "test_loss = Loss_Rate(t_test, c_test, c_bg_test)\n",
    "control_loss = Loss_Rate(t_control, c_control, c_bg_control)\n",
    "CADR_nominal = V* (Loss_Rate(t_test, c_test, c_bg_test) - Loss_Rate(t_control, c_control, c_bg_control))\n",
    "\n",
    "\n",
    "############################# Monte Carlo simulations###########################\n",
    "CADR_values = np.zeros(num_simulations)\n",
    "\n",
    "for i in range(num_simulations):\n",
    "\n",
    "    c_test_simulated = np.random.normal(c_test, sigma_test)\n",
    "    c_control_simulated = np.random.normal(c_control, sigma_control)\n",
    "    CADR_values[i] = V * (Loss_Rate(t_test, c_test_simulated, c_bg_test) - Loss_Rate(t_control, c_control_simulated, c_bg_control))\n",
    "\n",
    "############## Calculate mean and standard deviation of MC CADR ################\n",
    "\n",
    "# Use np.isnan() to identify NaN values and create a boolean mask\n",
    "mask = ~np.isnan(CADR_values)\n",
    "\n",
    "# Apply the mask to filter out NaN values\n",
    "CADR_values=  CADR_values[mask]\n",
    "\n",
    "'''\n",
    "Notice: if output distribution is not normal, one can eleminate n% percentile of\n",
    "data from output distribution. One can readily detect non-normal distribution by\n",
    "either comparing nominal CADR to MC CADR, or by visual inspection of the output plot.\n",
    "By eleminating n% of the data from both sided, the MC CADR will gradually\n",
    "converge to the nominal distribution. By default, this code excludes the top and bottom 5% \n",
    "of the output distributions to exclude implausible long tails on either end (i.e., 10% total).\n",
    "'''\n",
    "\n",
    "n=10 #percentile\n",
    "CADR_mean = np.mean(CADR_values[(CADR_values > np.percentile(CADR_values, n/2)) & (CADR_values < np.percentile(CADR_values, 100-(n/2)))])\n",
    "CADR_std = np.std(CADR_values[(CADR_values > np.percentile(CADR_values, n/2)) & (CADR_values < np.percentile(CADR_values, 100-(n/2)))])\n",
    "cadr_percent_error = CADR_std / CADR_mean * 100\n",
    "\n",
    "# Plotting the distribution of CADR values\n",
    "plt.hist(CADR_values, bins=50, alpha=0.7, color='b', edgecolor='black')\n",
    "plt.title('Distribution of CADR values from Monte Carlo simulations \\n Integral method (Trapezoidal)')\n",
    "plt.xlabel('CADR (CFM)')\n",
    "plt.ylabel('Frequency')\n",
    "\n",
    "# Disable scientific notation for x-axis and y-axis\n",
    "\n",
    "plt.ticklabel_format(style='plain', axis='x')\n",
    "plt.ticklabel_format(style='plain', axis='y')\n",
    "\n",
    "# Optionally, adjust the format of the ticks\n",
    "from matplotlib.ticker import ScalarFormatter\n",
    "plt.gca().xaxis.set_major_formatter(ScalarFormatter(useOffset=False))\n",
    "plt.gca().yaxis.set_major_formatter(ScalarFormatter(useOffset=False))\n",
    "\n",
    "plt.show()\n",
    "\n",
    "\n",
    "print(f\"Control loss rate = {control_loss:.4f}\",\"1/time (1/min by default)\\n\")\n",
    "print(f\"Test loss rate = {test_loss:.4f}\",\"1/time (1/min by default)\\n\")\n",
    "print(f\"Nominal CADR value (CFM) = {CADR_nominal:.2f}\",\"CFM\\n\")\n",
    "\n",
    "print(f\"Mean CADR value from Monte Carlo simulations = {CADR_mean:.2f}\",\"CFM\\n\")\n",
    "print(f\"Standard deviation of CADR value from Monte Carlo simulations = {CADR_std:.2f}\",\"CFM\\n\")\n",
    "print(f\"Percent error in CADR = {cadr_percent_error:.1f}\",\"%\\n\")\n"
   ]
  },
  {
   "cell_type": "code",
   "execution_count": null,
   "metadata": {},
   "outputs": [],
   "source": []
  }
 ],
 "metadata": {
  "colab": {
   "provenance": [],
   "toc_visible": true
  },
  "kernelspec": {
   "display_name": "Python 3 (Spyder)",
   "language": "python3",
   "name": "python3"
  },
  "language_info": {
   "codemirror_mode": {
    "name": "ipython",
    "version": 3
   },
   "file_extension": ".py",
   "mimetype": "text/x-python",
   "name": "python",
   "nbconvert_exporter": "python",
   "pygments_lexer": "ipython3",
   "version": "3.11.8"
  }
 },
 "nbformat": 4,
 "nbformat_minor": 4
}
